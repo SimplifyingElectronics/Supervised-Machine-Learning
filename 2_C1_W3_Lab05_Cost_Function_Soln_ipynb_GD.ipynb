{
  "nbformat": 4,
  "nbformat_minor": 0,
  "metadata": {
    "colab": {
      "provenance": [],
      "authorship_tag": "ABX9TyNnaMyIrKNmW12HETjV+X18",
      "include_colab_link": true
    },
    "kernelspec": {
      "name": "python3",
      "display_name": "Python 3"
    },
    "language_info": {
      "name": "python"
    }
  },
  "cells": [
    {
      "cell_type": "markdown",
      "metadata": {
        "id": "view-in-github",
        "colab_type": "text"
      },
      "source": [
        "<a href=\"https://colab.research.google.com/github/SimplifyingElectronics/Supervised-Machine-Learning/blob/Week-3/2_C1_W3_Lab05_Cost_Function_Soln_ipynb_GD.ipynb\" target=\"_parent\"><img src=\"https://colab.research.google.com/assets/colab-badge.svg\" alt=\"Open In Colab\"/></a>"
      ]
    },
    {
      "cell_type": "code",
      "execution_count": 1,
      "metadata": {
        "colab": {
          "base_uri": "https://localhost:8080/"
        },
        "id": "yRy0riQjvEH2",
        "outputId": "43273a8b-4812-4b66-c8f9-f82b9321aafe"
      },
      "outputs": [
        {
          "output_type": "stream",
          "name": "stdout",
          "text": [
            "Cloning into 'Supervised-Machine-Learning'...\n",
            "remote: Enumerating objects: 162, done.\u001b[K\n",
            "remote: Counting objects: 100% (162/162), done.\u001b[K\n",
            "remote: Compressing objects: 100% (157/157), done.\u001b[K\n",
            "remote: Total 162 (delta 78), reused 0 (delta 0), pack-reused 0 (from 0)\u001b[K\n",
            "Receiving objects: 100% (162/162), 4.28 MiB | 15.98 MiB/s, done.\n",
            "Resolving deltas: 100% (78/78), done.\n",
            "/content/Supervised-Machine-Learning\n"
          ]
        }
      ],
      "source": [
        "!git clone 'https://github.com/SimplifyingElectronics/Supervised-Machine-Learning.git'\n",
        "%cd Supervised-Machine-Learning"
      ]
    }
  ]
}