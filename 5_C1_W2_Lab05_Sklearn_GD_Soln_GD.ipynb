{
  "nbformat": 4,
  "nbformat_minor": 0,
  "metadata": {
    "colab": {
      "provenance": [],
      "authorship_tag": "ABX9TyNnaMyIrKNmW12HETjV+X18",
      "include_colab_link": true
    },
    "kernelspec": {
      "name": "python3",
      "display_name": "Python 3"
    },
    "language_info": {
      "name": "python"
    }
  },
  "cells": [
    {
      "cell_type": "markdown",
      "metadata": {
        "id": "view-in-github",
        "colab_type": "text"
      },
      "source": [
        "<a href=\"https://colab.research.google.com/github/SimplifyingElectronics/Supervised-Machine-Learning/blob/main/5_C1_W2_Lab05_Sklearn_GD_Soln_GD.ipynb\" target=\"_parent\"><img src=\"https://colab.research.google.com/assets/colab-badge.svg\" alt=\"Open In Colab\"/></a>"
      ]
    },
    {
      "cell_type": "code",
      "execution_count": null,
      "metadata": {
        "id": "gtung3B-tErZ"
      },
      "outputs": [],
      "source": [
        "!git clone 'https://github.com/SimplifyingElectronics/Supervised-Machine-Learning.git'\n",
        "%cd Supervised-Machine-Learning"
      ]
    }
  ]
}