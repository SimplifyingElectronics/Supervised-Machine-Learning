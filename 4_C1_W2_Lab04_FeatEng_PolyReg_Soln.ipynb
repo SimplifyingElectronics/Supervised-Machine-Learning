{
  "nbformat": 4,
  "nbformat_minor": 0,
  "metadata": {
    "colab": {
      "provenance": [],
      "authorship_tag": "ABX9TyOPksqGlAWyrmhYJC60DiJ0",
      "include_colab_link": true
    },
    "kernelspec": {
      "name": "python3",
      "display_name": "Python 3"
    },
    "language_info": {
      "name": "python"
    }
  },
  "cells": [
    {
      "cell_type": "markdown",
      "metadata": {
        "id": "view-in-github",
        "colab_type": "text"
      },
      "source": [
        "<a href=\"https://colab.research.google.com/github/SimplifyingElectronics/Supervised-Machine-Learning/blob/main/4_C1_W2_Lab04_FeatEng_PolyReg_Soln.ipynb\" target=\"_parent\"><img src=\"https://colab.research.google.com/assets/colab-badge.svg\" alt=\"Open In Colab\"/></a>"
      ]
    },
    {
      "cell_type": "markdown",
      "source": [
        "# Optional Lab: Feature Engineering and Polynomial Regression\n",
        "\n",
        "![](./images/C1_W2_Lab07_FeatureEngLecture.PNG)\n"
      ],
      "metadata": {
        "id": "8qS1JZjtNN3h"
      }
    },
    {
      "cell_type": "code",
      "execution_count": 1,
      "metadata": {
        "colab": {
          "base_uri": "https://localhost:8080/"
        },
        "id": "kVN10o-ENME4",
        "outputId": "f4e9ea20-4afa-46ec-e8c6-55d4f6eb1799"
      },
      "outputs": [
        {
          "output_type": "stream",
          "name": "stdout",
          "text": [
            "Cloning into 'Supervised-Machine-Learning'...\n",
            "remote: Enumerating objects: 82, done.\u001b[K\n",
            "remote: Counting objects: 100% (82/82), done.\u001b[K\n",
            "remote: Compressing objects: 100% (79/79), done.\u001b[K\n",
            "remote: Total 82 (delta 36), reused 0 (delta 0), pack-reused 0 (from 0)\u001b[K\n",
            "Receiving objects: 100% (82/82), 3.88 MiB | 12.14 MiB/s, done.\n",
            "Resolving deltas: 100% (36/36), done.\n",
            "/content/Supervised-Machine-Learning\n"
          ]
        }
      ],
      "source": [
        "!git clone 'https://github.com/SimplifyingElectronics/Supervised-Machine-Learning.git'\n",
        "%cd Supervised-Machine-Learning"
      ]
    }
  ]
}